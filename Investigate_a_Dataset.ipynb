{
 "cells": [
  {
   "cell_type": "markdown",
   "metadata": {},
   "source": [
    "\n",
    "# Project: Investigate a Dataset - [Gapminder World]\n",
    "\n",
    "## Table of Contents\n",
    "<ul>\n",
    "<li><a href=\"#intro\">Introduction</a></li>\n",
    "<li><a href=\"#wrangling\">Data Wrangling</a></li>\n",
    "<li><a href=\"#eda\">Exploratory Data Analysis</a></li>\n",
    "    <ul>\n",
    "      <li><a href=\"#conclusion 1\">Conclusion 1</a></li>\n",
    "      <li><a href=\"#conclusion 2\">Conclusion 2</a></li>\n",
    "      <li><a href=\"#conclusion 3\">Conclusion 3</a></li>\n",
    "      <li><a href=\"#conclusion 4\">Conclusion 4</a></li>\n",
    "    </ul>\n",
    "<li><a href=\"#conclusions\">Limitations</a></li>\n",
    "</ul>"
   ]
  },
  {
   "cell_type": "markdown",
   "metadata": {},
   "source": [
    "<a id='intro'></a>\n",
    "## Introduction\n",
    "\n",
    "### Dataset Description \n",
    "\n",
    "This project will look at datasets representing different indicators for 197 countries over the course of roughly 3 centuries. \n",
    "Each indicator has its own table, with a column that holds all the countries and a column for each year the indicator is measured.\n",
    "\n",
    ">**Population table:** shows the population of each country over the years 1800 to 2100\n",
    "\n",
    ">**GDP/capita, inflation-adjusted table:** shows the gross domestic product per person adjusted for differences in purchasing power (in international dollars)\n",
    "\n",
    ">**Life expectancy:** the average number of years a child is sexpected to live given no changes in current mortality patterns\n",
    "\n",
    ">**Children per Woman:** the total fertility rate; the number of children born from each woman considering their current, age-specific fertility rate \n",
    "\n",
    "### Questions for Analysis\n",
    "\n",
    ">1 - How is income related to population?\n",
    "\n",
    ">2 - How is income related to life expectancy?\n",
    "\n",
    ">3 - How do the chosen regions compare on the same indicator?\n",
    "\n",
    ">4 - How do these 4 indicators relate together for each region?"
   ]
  },
  {
   "cell_type": "markdown",
   "metadata": {},
   "source": [
    "<a id='wrangling'></a>\n",
    "## Data Wrangling\n",
    "\n",
    "### General Properties"
   ]
  },
  {
   "cell_type": "code",
   "execution_count": 1,
   "metadata": {},
   "outputs": [],
   "source": [
    "import pandas as pd\n",
    "import numpy as np\n",
    "import matplotlib.pyplot as plt\n",
    "import seaborn as sns\n",
    "from sklearn.preprocessing import MinMaxScaler\n",
    "%matplotlib inline"
   ]
  },
  {
   "cell_type": "code",
   "execution_count": 2,
   "metadata": {},
   "outputs": [],
   "source": [
    "df_pop = pd.read_csv('population_total.csv')\n",
    "df_fertility = pd.read_csv('children_per_woman_total_fertility.csv')\n",
    "df_gdp = pd.read_csv('gdp_capita.csv')\n",
    "df_life_exp = pd.read_csv('life_expectancy.csv')"
   ]
  },
  {
   "cell_type": "markdown",
   "metadata": {},
   "source": [
    "### Checking the datatypes and shapes of all tables\n",
    "\n",
    ">Must have information in float dtype (except 'country' column) to be able to graph it later, and\n",
    "\n",
    ">Must have the same countries and range of years to be able to compare all datasets together "
   ]
  },
  {
   "cell_type": "code",
   "execution_count": 3,
   "metadata": {},
   "outputs": [
    {
     "name": "stdout",
     "output_type": "stream",
     "text": [
      "<class 'pandas.core.frame.DataFrame'>\n",
      "RangeIndex: 197 entries, 0 to 196\n",
      "Columns: 302 entries, country to 2100\n",
      "dtypes: object(302)\n",
      "memory usage: 464.9+ KB\n"
     ]
    }
   ],
   "source": [
    "df_pop.head()\n",
    "df_pop.info()"
   ]
  },
  {
   "cell_type": "markdown",
   "metadata": {},
   "source": [
    "**The type object in the population dataframe will have to be converted to float so that population can be graphed later on**"
   ]
  },
  {
   "cell_type": "code",
   "execution_count": 32,
   "metadata": {},
   "outputs": [
    {
     "data": {
      "text/html": [
       "<div>\n",
       "<style scoped>\n",
       "    .dataframe tbody tr th:only-of-type {\n",
       "        vertical-align: middle;\n",
       "    }\n",
       "\n",
       "    .dataframe tbody tr th {\n",
       "        vertical-align: top;\n",
       "    }\n",
       "\n",
       "    .dataframe thead th {\n",
       "        text-align: right;\n",
       "    }\n",
       "</style>\n",
       "<table border=\"1\" class=\"dataframe\">\n",
       "  <thead>\n",
       "    <tr style=\"text-align: right;\">\n",
       "      <th></th>\n",
       "      <th>1800</th>\n",
       "      <th>1801</th>\n",
       "      <th>1802</th>\n",
       "      <th>1803</th>\n",
       "      <th>1804</th>\n",
       "      <th>1805</th>\n",
       "      <th>1806</th>\n",
       "      <th>1807</th>\n",
       "      <th>1808</th>\n",
       "      <th>1809</th>\n",
       "      <th>...</th>\n",
       "      <th>2091</th>\n",
       "      <th>2092</th>\n",
       "      <th>2093</th>\n",
       "      <th>2094</th>\n",
       "      <th>2095</th>\n",
       "      <th>2096</th>\n",
       "      <th>2097</th>\n",
       "      <th>2098</th>\n",
       "      <th>2099</th>\n",
       "      <th>2100</th>\n",
       "    </tr>\n",
       "  </thead>\n",
       "  <tbody>\n",
       "    <tr>\n",
       "      <th>count</th>\n",
       "      <td>186.000000</td>\n",
       "      <td>186.000000</td>\n",
       "      <td>186.000000</td>\n",
       "      <td>186.000000</td>\n",
       "      <td>186.000000</td>\n",
       "      <td>186.000000</td>\n",
       "      <td>186.000000</td>\n",
       "      <td>186.000000</td>\n",
       "      <td>186.000000</td>\n",
       "      <td>186.000000</td>\n",
       "      <td>...</td>\n",
       "      <td>186.000000</td>\n",
       "      <td>186.000000</td>\n",
       "      <td>186.000000</td>\n",
       "      <td>186.000000</td>\n",
       "      <td>186.000000</td>\n",
       "      <td>186.000000</td>\n",
       "      <td>186.000000</td>\n",
       "      <td>186.000000</td>\n",
       "      <td>186.000000</td>\n",
       "      <td>186.000000</td>\n",
       "    </tr>\n",
       "    <tr>\n",
       "      <th>mean</th>\n",
       "      <td>6.105753</td>\n",
       "      <td>6.102742</td>\n",
       "      <td>6.106075</td>\n",
       "      <td>6.105108</td>\n",
       "      <td>6.105484</td>\n",
       "      <td>6.105269</td>\n",
       "      <td>6.100914</td>\n",
       "      <td>6.099624</td>\n",
       "      <td>6.091559</td>\n",
       "      <td>6.079785</td>\n",
       "      <td>...</td>\n",
       "      <td>1.892903</td>\n",
       "      <td>1.889570</td>\n",
       "      <td>1.886882</td>\n",
       "      <td>1.884570</td>\n",
       "      <td>1.881828</td>\n",
       "      <td>1.879301</td>\n",
       "      <td>1.877204</td>\n",
       "      <td>1.875000</td>\n",
       "      <td>1.872527</td>\n",
       "      <td>1.872527</td>\n",
       "    </tr>\n",
       "    <tr>\n",
       "      <th>std</th>\n",
       "      <td>0.788829</td>\n",
       "      <td>0.792444</td>\n",
       "      <td>0.786461</td>\n",
       "      <td>0.785738</td>\n",
       "      <td>0.785849</td>\n",
       "      <td>0.782394</td>\n",
       "      <td>0.787753</td>\n",
       "      <td>0.788775</td>\n",
       "      <td>0.803455</td>\n",
       "      <td>0.831697</td>\n",
       "      <td>...</td>\n",
       "      <td>0.195615</td>\n",
       "      <td>0.189688</td>\n",
       "      <td>0.184215</td>\n",
       "      <td>0.178617</td>\n",
       "      <td>0.173152</td>\n",
       "      <td>0.167700</td>\n",
       "      <td>0.162816</td>\n",
       "      <td>0.157899</td>\n",
       "      <td>0.152541</td>\n",
       "      <td>0.152541</td>\n",
       "    </tr>\n",
       "    <tr>\n",
       "      <th>min</th>\n",
       "      <td>4.040000</td>\n",
       "      <td>4.040000</td>\n",
       "      <td>3.910000</td>\n",
       "      <td>4.050000</td>\n",
       "      <td>3.940000</td>\n",
       "      <td>4.060000</td>\n",
       "      <td>4.070000</td>\n",
       "      <td>4.050000</td>\n",
       "      <td>4.000000</td>\n",
       "      <td>3.210000</td>\n",
       "      <td>...</td>\n",
       "      <td>1.440000</td>\n",
       "      <td>1.440000</td>\n",
       "      <td>1.450000</td>\n",
       "      <td>1.450000</td>\n",
       "      <td>1.450000</td>\n",
       "      <td>1.450000</td>\n",
       "      <td>1.450000</td>\n",
       "      <td>1.450000</td>\n",
       "      <td>1.450000</td>\n",
       "      <td>1.450000</td>\n",
       "    </tr>\n",
       "    <tr>\n",
       "      <th>25%</th>\n",
       "      <td>5.670000</td>\n",
       "      <td>5.670000</td>\n",
       "      <td>5.670000</td>\n",
       "      <td>5.670000</td>\n",
       "      <td>5.670000</td>\n",
       "      <td>5.670000</td>\n",
       "      <td>5.670000</td>\n",
       "      <td>5.670000</td>\n",
       "      <td>5.670000</td>\n",
       "      <td>5.670000</td>\n",
       "      <td>...</td>\n",
       "      <td>1.770000</td>\n",
       "      <td>1.780000</td>\n",
       "      <td>1.780000</td>\n",
       "      <td>1.780000</td>\n",
       "      <td>1.780000</td>\n",
       "      <td>1.780000</td>\n",
       "      <td>1.780000</td>\n",
       "      <td>1.780000</td>\n",
       "      <td>1.780000</td>\n",
       "      <td>1.780000</td>\n",
       "    </tr>\n",
       "    <tr>\n",
       "      <th>50%</th>\n",
       "      <td>6.175000</td>\n",
       "      <td>6.175000</td>\n",
       "      <td>6.175000</td>\n",
       "      <td>6.175000</td>\n",
       "      <td>6.175000</td>\n",
       "      <td>6.175000</td>\n",
       "      <td>6.175000</td>\n",
       "      <td>6.165000</td>\n",
       "      <td>6.160000</td>\n",
       "      <td>6.155000</td>\n",
       "      <td>...</td>\n",
       "      <td>1.810000</td>\n",
       "      <td>1.810000</td>\n",
       "      <td>1.810000</td>\n",
       "      <td>1.810000</td>\n",
       "      <td>1.810000</td>\n",
       "      <td>1.810000</td>\n",
       "      <td>1.810000</td>\n",
       "      <td>1.810000</td>\n",
       "      <td>1.810000</td>\n",
       "      <td>1.810000</td>\n",
       "    </tr>\n",
       "    <tr>\n",
       "      <th>75%</th>\n",
       "      <td>6.710000</td>\n",
       "      <td>6.710000</td>\n",
       "      <td>6.710000</td>\n",
       "      <td>6.710000</td>\n",
       "      <td>6.710000</td>\n",
       "      <td>6.710000</td>\n",
       "      <td>6.710000</td>\n",
       "      <td>6.710000</td>\n",
       "      <td>6.710000</td>\n",
       "      <td>6.710000</td>\n",
       "      <td>...</td>\n",
       "      <td>1.930000</td>\n",
       "      <td>1.927500</td>\n",
       "      <td>1.920000</td>\n",
       "      <td>1.920000</td>\n",
       "      <td>1.920000</td>\n",
       "      <td>1.920000</td>\n",
       "      <td>1.920000</td>\n",
       "      <td>1.910000</td>\n",
       "      <td>1.910000</td>\n",
       "      <td>1.910000</td>\n",
       "    </tr>\n",
       "    <tr>\n",
       "      <th>max</th>\n",
       "      <td>8.100000</td>\n",
       "      <td>8.100000</td>\n",
       "      <td>8.100000</td>\n",
       "      <td>8.100000</td>\n",
       "      <td>8.100000</td>\n",
       "      <td>8.100000</td>\n",
       "      <td>8.100000</td>\n",
       "      <td>8.100000</td>\n",
       "      <td>8.100000</td>\n",
       "      <td>8.100000</td>\n",
       "      <td>...</td>\n",
       "      <td>2.630000</td>\n",
       "      <td>2.600000</td>\n",
       "      <td>2.580000</td>\n",
       "      <td>2.550000</td>\n",
       "      <td>2.530000</td>\n",
       "      <td>2.510000</td>\n",
       "      <td>2.500000</td>\n",
       "      <td>2.480000</td>\n",
       "      <td>2.460000</td>\n",
       "      <td>2.460000</td>\n",
       "    </tr>\n",
       "  </tbody>\n",
       "</table>\n",
       "<p>8 rows × 301 columns</p>\n",
       "</div>"
      ],
      "text/plain": [
       "             1800        1801        1802        1803        1804        1805  \\\n",
       "count  186.000000  186.000000  186.000000  186.000000  186.000000  186.000000   \n",
       "mean     6.105753    6.102742    6.106075    6.105108    6.105484    6.105269   \n",
       "std      0.788829    0.792444    0.786461    0.785738    0.785849    0.782394   \n",
       "min      4.040000    4.040000    3.910000    4.050000    3.940000    4.060000   \n",
       "25%      5.670000    5.670000    5.670000    5.670000    5.670000    5.670000   \n",
       "50%      6.175000    6.175000    6.175000    6.175000    6.175000    6.175000   \n",
       "75%      6.710000    6.710000    6.710000    6.710000    6.710000    6.710000   \n",
       "max      8.100000    8.100000    8.100000    8.100000    8.100000    8.100000   \n",
       "\n",
       "             1806        1807        1808        1809     ...            2091  \\\n",
       "count  186.000000  186.000000  186.000000  186.000000     ...      186.000000   \n",
       "mean     6.100914    6.099624    6.091559    6.079785     ...        1.892903   \n",
       "std      0.787753    0.788775    0.803455    0.831697     ...        0.195615   \n",
       "min      4.070000    4.050000    4.000000    3.210000     ...        1.440000   \n",
       "25%      5.670000    5.670000    5.670000    5.670000     ...        1.770000   \n",
       "50%      6.175000    6.165000    6.160000    6.155000     ...        1.810000   \n",
       "75%      6.710000    6.710000    6.710000    6.710000     ...        1.930000   \n",
       "max      8.100000    8.100000    8.100000    8.100000     ...        2.630000   \n",
       "\n",
       "             2092        2093        2094        2095        2096        2097  \\\n",
       "count  186.000000  186.000000  186.000000  186.000000  186.000000  186.000000   \n",
       "mean     1.889570    1.886882    1.884570    1.881828    1.879301    1.877204   \n",
       "std      0.189688    0.184215    0.178617    0.173152    0.167700    0.162816   \n",
       "min      1.440000    1.450000    1.450000    1.450000    1.450000    1.450000   \n",
       "25%      1.780000    1.780000    1.780000    1.780000    1.780000    1.780000   \n",
       "50%      1.810000    1.810000    1.810000    1.810000    1.810000    1.810000   \n",
       "75%      1.927500    1.920000    1.920000    1.920000    1.920000    1.920000   \n",
       "max      2.600000    2.580000    2.550000    2.530000    2.510000    2.500000   \n",
       "\n",
       "             2098        2099        2100  \n",
       "count  186.000000  186.000000  186.000000  \n",
       "mean     1.875000    1.872527    1.872527  \n",
       "std      0.157899    0.152541    0.152541  \n",
       "min      1.450000    1.450000    1.450000  \n",
       "25%      1.780000    1.780000    1.780000  \n",
       "50%      1.810000    1.810000    1.810000  \n",
       "75%      1.910000    1.910000    1.910000  \n",
       "max      2.480000    2.460000    2.460000  \n",
       "\n",
       "[8 rows x 301 columns]"
      ]
     },
     "execution_count": 32,
     "metadata": {},
     "output_type": "execute_result"
    }
   ],
   "source": [
    "df_fertility.head()\n",
    "df_fertility.describe()"
   ]
  },
  {
   "cell_type": "markdown",
   "metadata": {},
   "source": [
    "**We will expect total fertility to show a decreasing trend since the early years have a max of 8 and are predicted to be 2.5 by 2100**"
   ]
  },
  {
   "cell_type": "code",
   "execution_count": 5,
   "metadata": {},
   "outputs": [
    {
     "data": {
      "text/html": [
       "<div>\n",
       "<style scoped>\n",
       "    .dataframe tbody tr th:only-of-type {\n",
       "        vertical-align: middle;\n",
       "    }\n",
       "\n",
       "    .dataframe tbody tr th {\n",
       "        vertical-align: top;\n",
       "    }\n",
       "\n",
       "    .dataframe thead th {\n",
       "        text-align: right;\n",
       "    }\n",
       "</style>\n",
       "<table border=\"1\" class=\"dataframe\">\n",
       "  <thead>\n",
       "    <tr style=\"text-align: right;\">\n",
       "      <th></th>\n",
       "      <th>country</th>\n",
       "      <th>1800</th>\n",
       "      <th>1801</th>\n",
       "      <th>1802</th>\n",
       "      <th>1803</th>\n",
       "      <th>1804</th>\n",
       "      <th>1805</th>\n",
       "      <th>1806</th>\n",
       "      <th>1807</th>\n",
       "      <th>1808</th>\n",
       "      <th>...</th>\n",
       "      <th>2091</th>\n",
       "      <th>2092</th>\n",
       "      <th>2093</th>\n",
       "      <th>2094</th>\n",
       "      <th>2095</th>\n",
       "      <th>2096</th>\n",
       "      <th>2097</th>\n",
       "      <th>2098</th>\n",
       "      <th>2099</th>\n",
       "      <th>2100</th>\n",
       "    </tr>\n",
       "  </thead>\n",
       "  <tbody>\n",
       "    <tr>\n",
       "      <th>0</th>\n",
       "      <td>Afghanistan</td>\n",
       "      <td>28.2</td>\n",
       "      <td>28.2</td>\n",
       "      <td>28.2</td>\n",
       "      <td>28.2</td>\n",
       "      <td>28.2</td>\n",
       "      <td>28.2</td>\n",
       "      <td>28.1</td>\n",
       "      <td>28.1</td>\n",
       "      <td>28.1</td>\n",
       "      <td>...</td>\n",
       "      <td>75.5</td>\n",
       "      <td>75.7</td>\n",
       "      <td>75.8</td>\n",
       "      <td>76.0</td>\n",
       "      <td>76.1</td>\n",
       "      <td>76.2</td>\n",
       "      <td>76.4</td>\n",
       "      <td>76.5</td>\n",
       "      <td>76.6</td>\n",
       "      <td>76.8</td>\n",
       "    </tr>\n",
       "    <tr>\n",
       "      <th>1</th>\n",
       "      <td>Angola</td>\n",
       "      <td>27.0</td>\n",
       "      <td>27.0</td>\n",
       "      <td>27.0</td>\n",
       "      <td>27.0</td>\n",
       "      <td>27.0</td>\n",
       "      <td>27.0</td>\n",
       "      <td>27.0</td>\n",
       "      <td>27.0</td>\n",
       "      <td>27.0</td>\n",
       "      <td>...</td>\n",
       "      <td>78.8</td>\n",
       "      <td>79.0</td>\n",
       "      <td>79.1</td>\n",
       "      <td>79.2</td>\n",
       "      <td>79.3</td>\n",
       "      <td>79.5</td>\n",
       "      <td>79.6</td>\n",
       "      <td>79.7</td>\n",
       "      <td>79.9</td>\n",
       "      <td>80.0</td>\n",
       "    </tr>\n",
       "    <tr>\n",
       "      <th>2</th>\n",
       "      <td>Albania</td>\n",
       "      <td>35.4</td>\n",
       "      <td>35.4</td>\n",
       "      <td>35.4</td>\n",
       "      <td>35.4</td>\n",
       "      <td>35.4</td>\n",
       "      <td>35.4</td>\n",
       "      <td>35.4</td>\n",
       "      <td>35.4</td>\n",
       "      <td>35.4</td>\n",
       "      <td>...</td>\n",
       "      <td>87.4</td>\n",
       "      <td>87.5</td>\n",
       "      <td>87.6</td>\n",
       "      <td>87.7</td>\n",
       "      <td>87.8</td>\n",
       "      <td>87.9</td>\n",
       "      <td>88.0</td>\n",
       "      <td>88.2</td>\n",
       "      <td>88.3</td>\n",
       "      <td>88.4</td>\n",
       "    </tr>\n",
       "    <tr>\n",
       "      <th>3</th>\n",
       "      <td>Andorra</td>\n",
       "      <td>NaN</td>\n",
       "      <td>NaN</td>\n",
       "      <td>NaN</td>\n",
       "      <td>NaN</td>\n",
       "      <td>NaN</td>\n",
       "      <td>NaN</td>\n",
       "      <td>NaN</td>\n",
       "      <td>NaN</td>\n",
       "      <td>NaN</td>\n",
       "      <td>...</td>\n",
       "      <td>NaN</td>\n",
       "      <td>NaN</td>\n",
       "      <td>NaN</td>\n",
       "      <td>NaN</td>\n",
       "      <td>NaN</td>\n",
       "      <td>NaN</td>\n",
       "      <td>NaN</td>\n",
       "      <td>NaN</td>\n",
       "      <td>NaN</td>\n",
       "      <td>NaN</td>\n",
       "    </tr>\n",
       "    <tr>\n",
       "      <th>4</th>\n",
       "      <td>United Arab Emirates</td>\n",
       "      <td>30.7</td>\n",
       "      <td>30.7</td>\n",
       "      <td>30.7</td>\n",
       "      <td>30.7</td>\n",
       "      <td>30.7</td>\n",
       "      <td>30.7</td>\n",
       "      <td>30.7</td>\n",
       "      <td>30.7</td>\n",
       "      <td>30.7</td>\n",
       "      <td>...</td>\n",
       "      <td>82.4</td>\n",
       "      <td>82.5</td>\n",
       "      <td>82.6</td>\n",
       "      <td>82.7</td>\n",
       "      <td>82.8</td>\n",
       "      <td>82.9</td>\n",
       "      <td>83.0</td>\n",
       "      <td>83.1</td>\n",
       "      <td>83.2</td>\n",
       "      <td>83.3</td>\n",
       "    </tr>\n",
       "  </tbody>\n",
       "</table>\n",
       "<p>5 rows × 302 columns</p>\n",
       "</div>"
      ],
      "text/plain": [
       "                country  1800  1801  1802  1803  1804  1805  1806  1807  1808  \\\n",
       "0           Afghanistan  28.2  28.2  28.2  28.2  28.2  28.2  28.1  28.1  28.1   \n",
       "1                Angola  27.0  27.0  27.0  27.0  27.0  27.0  27.0  27.0  27.0   \n",
       "2               Albania  35.4  35.4  35.4  35.4  35.4  35.4  35.4  35.4  35.4   \n",
       "3               Andorra   NaN   NaN   NaN   NaN   NaN   NaN   NaN   NaN   NaN   \n",
       "4  United Arab Emirates  30.7  30.7  30.7  30.7  30.7  30.7  30.7  30.7  30.7   \n",
       "\n",
       "   ...   2091  2092  2093  2094  2095  2096  2097  2098  2099  2100  \n",
       "0  ...   75.5  75.7  75.8  76.0  76.1  76.2  76.4  76.5  76.6  76.8  \n",
       "1  ...   78.8  79.0  79.1  79.2  79.3  79.5  79.6  79.7  79.9  80.0  \n",
       "2  ...   87.4  87.5  87.6  87.7  87.8  87.9  88.0  88.2  88.3  88.4  \n",
       "3  ...    NaN   NaN   NaN   NaN   NaN   NaN   NaN   NaN   NaN   NaN  \n",
       "4  ...   82.4  82.5  82.6  82.7  82.8  82.9  83.0  83.1  83.2  83.3  \n",
       "\n",
       "[5 rows x 302 columns]"
      ]
     },
     "execution_count": 5,
     "metadata": {},
     "output_type": "execute_result"
    }
   ],
   "source": [
    "df_life_exp.head()\n",
    "#df_life_exp.info()"
   ]
  },
  {
   "cell_type": "markdown",
   "metadata": {},
   "source": [
    "**Some null values can be seen; will have to check for them after joining all tables into one dataframe. Might drop some years if a lot of countries have null values in them or drop some countries if they have a lot of null values for many years. If the null count is low then they can be replaced with the mean.**"
   ]
  },
  {
   "cell_type": "code",
   "execution_count": 6,
   "metadata": {},
   "outputs": [
    {
     "data": {
      "text/html": [
       "<div>\n",
       "<style scoped>\n",
       "    .dataframe tbody tr th:only-of-type {\n",
       "        vertical-align: middle;\n",
       "    }\n",
       "\n",
       "    .dataframe tbody tr th {\n",
       "        vertical-align: top;\n",
       "    }\n",
       "\n",
       "    .dataframe thead th {\n",
       "        text-align: right;\n",
       "    }\n",
       "</style>\n",
       "<table border=\"1\" class=\"dataframe\">\n",
       "  <thead>\n",
       "    <tr style=\"text-align: right;\">\n",
       "      <th></th>\n",
       "      <th>country</th>\n",
       "      <th>1800</th>\n",
       "      <th>1801</th>\n",
       "      <th>1802</th>\n",
       "      <th>1803</th>\n",
       "      <th>1804</th>\n",
       "      <th>1805</th>\n",
       "      <th>1806</th>\n",
       "      <th>1807</th>\n",
       "      <th>1808</th>\n",
       "      <th>...</th>\n",
       "      <th>2041</th>\n",
       "      <th>2042</th>\n",
       "      <th>2043</th>\n",
       "      <th>2044</th>\n",
       "      <th>2045</th>\n",
       "      <th>2046</th>\n",
       "      <th>2047</th>\n",
       "      <th>2048</th>\n",
       "      <th>2049</th>\n",
       "      <th>2050</th>\n",
       "    </tr>\n",
       "  </thead>\n",
       "  <tbody>\n",
       "    <tr>\n",
       "      <th>0</th>\n",
       "      <td>Afghanistan</td>\n",
       "      <td>683</td>\n",
       "      <td>683</td>\n",
       "      <td>683</td>\n",
       "      <td>683</td>\n",
       "      <td>683</td>\n",
       "      <td>683</td>\n",
       "      <td>683</td>\n",
       "      <td>683</td>\n",
       "      <td>683</td>\n",
       "      <td>...</td>\n",
       "      <td>2690</td>\n",
       "      <td>2750</td>\n",
       "      <td>2810</td>\n",
       "      <td>2870</td>\n",
       "      <td>2930</td>\n",
       "      <td>2990</td>\n",
       "      <td>3060</td>\n",
       "      <td>3120</td>\n",
       "      <td>3190</td>\n",
       "      <td>3260</td>\n",
       "    </tr>\n",
       "    <tr>\n",
       "      <th>1</th>\n",
       "      <td>Angola</td>\n",
       "      <td>700</td>\n",
       "      <td>702</td>\n",
       "      <td>705</td>\n",
       "      <td>709</td>\n",
       "      <td>711</td>\n",
       "      <td>714</td>\n",
       "      <td>718</td>\n",
       "      <td>721</td>\n",
       "      <td>725</td>\n",
       "      <td>...</td>\n",
       "      <td>8000</td>\n",
       "      <td>8170</td>\n",
       "      <td>8350</td>\n",
       "      <td>8530</td>\n",
       "      <td>8710</td>\n",
       "      <td>8900</td>\n",
       "      <td>9090</td>\n",
       "      <td>9280</td>\n",
       "      <td>9480</td>\n",
       "      <td>9690</td>\n",
       "    </tr>\n",
       "    <tr>\n",
       "      <th>2</th>\n",
       "      <td>Albania</td>\n",
       "      <td>755</td>\n",
       "      <td>755</td>\n",
       "      <td>755</td>\n",
       "      <td>755</td>\n",
       "      <td>755</td>\n",
       "      <td>756</td>\n",
       "      <td>756</td>\n",
       "      <td>756</td>\n",
       "      <td>756</td>\n",
       "      <td>...</td>\n",
       "      <td>25.1k</td>\n",
       "      <td>25.6k</td>\n",
       "      <td>26.2k</td>\n",
       "      <td>26.7k</td>\n",
       "      <td>27.3k</td>\n",
       "      <td>27.9k</td>\n",
       "      <td>28.5k</td>\n",
       "      <td>29.1k</td>\n",
       "      <td>29.7k</td>\n",
       "      <td>30.4k</td>\n",
       "    </tr>\n",
       "    <tr>\n",
       "      <th>3</th>\n",
       "      <td>Andorra</td>\n",
       "      <td>1360</td>\n",
       "      <td>1360</td>\n",
       "      <td>1360</td>\n",
       "      <td>1360</td>\n",
       "      <td>1370</td>\n",
       "      <td>1370</td>\n",
       "      <td>1370</td>\n",
       "      <td>1370</td>\n",
       "      <td>1380</td>\n",
       "      <td>...</td>\n",
       "      <td>68.9k</td>\n",
       "      <td>70.4k</td>\n",
       "      <td>71.9k</td>\n",
       "      <td>73.4k</td>\n",
       "      <td>75k</td>\n",
       "      <td>76.6k</td>\n",
       "      <td>78.3k</td>\n",
       "      <td>80k</td>\n",
       "      <td>81.7k</td>\n",
       "      <td>83.4k</td>\n",
       "    </tr>\n",
       "    <tr>\n",
       "      <th>4</th>\n",
       "      <td>United Arab Emirates</td>\n",
       "      <td>1130</td>\n",
       "      <td>1130</td>\n",
       "      <td>1140</td>\n",
       "      <td>1140</td>\n",
       "      <td>1150</td>\n",
       "      <td>1150</td>\n",
       "      <td>1160</td>\n",
       "      <td>1160</td>\n",
       "      <td>1160</td>\n",
       "      <td>...</td>\n",
       "      <td>101k</td>\n",
       "      <td>103k</td>\n",
       "      <td>105k</td>\n",
       "      <td>107k</td>\n",
       "      <td>110k</td>\n",
       "      <td>112k</td>\n",
       "      <td>114k</td>\n",
       "      <td>117k</td>\n",
       "      <td>119k</td>\n",
       "      <td>122k</td>\n",
       "    </tr>\n",
       "  </tbody>\n",
       "</table>\n",
       "<p>5 rows × 252 columns</p>\n",
       "</div>"
      ],
      "text/plain": [
       "                country  1800  1801  1802  1803  1804  1805  1806  1807  1808  \\\n",
       "0           Afghanistan   683   683   683   683   683   683   683   683   683   \n",
       "1                Angola   700   702   705   709   711   714   718   721   725   \n",
       "2               Albania   755   755   755   755   755   756   756   756   756   \n",
       "3               Andorra  1360  1360  1360  1360  1370  1370  1370  1370  1380   \n",
       "4  United Arab Emirates  1130  1130  1140  1140  1150  1150  1160  1160  1160   \n",
       "\n",
       "   ...     2041   2042   2043   2044   2045   2046   2047   2048   2049   2050  \n",
       "0  ...     2690   2750   2810   2870   2930   2990   3060   3120   3190   3260  \n",
       "1  ...     8000   8170   8350   8530   8710   8900   9090   9280   9480   9690  \n",
       "2  ...    25.1k  25.6k  26.2k  26.7k  27.3k  27.9k  28.5k  29.1k  29.7k  30.4k  \n",
       "3  ...    68.9k  70.4k  71.9k  73.4k    75k  76.6k  78.3k    80k  81.7k  83.4k  \n",
       "4  ...     101k   103k   105k   107k   110k   112k   114k   117k   119k   122k  \n",
       "\n",
       "[5 rows x 252 columns]"
      ]
     },
     "execution_count": 6,
     "metadata": {},
     "output_type": "execute_result"
    }
   ],
   "source": [
    "df_gdp.head()\n",
    "#df_gdp.info()"
   ]
  },
  {
   "cell_type": "markdown",
   "metadata": {},
   "source": [
    "**Will have to convert dtype to float here too. Also the years end at 2050 so will have to drop the last 50 years for the tables that end at 2100**"
   ]
  },
  {
   "cell_type": "code",
   "execution_count": 7,
   "metadata": {},
   "outputs": [],
   "source": [
    "df_all_list = [df_pop, df_fertility, df_gdp, df_life_exp]\n",
    "df_names_list = ['Population', 'Total_Fertility', 'GDP', 'Life_Expectency']"
   ]
  },
  {
   "cell_type": "code",
   "execution_count": 8,
   "metadata": {},
   "outputs": [
    {
     "name": "stdout",
     "output_type": "stream",
     "text": [
      "The shape of the Population dataset is: (197, 302)\n",
      "The shape of the Total_Fertility dataset is: (202, 302)\n",
      "The shape of the GDP dataset is: (195, 252)\n",
      "The shape of the Life_Expectency dataset is: (195, 302)\n"
     ]
    }
   ],
   "source": [
    "def check_shape(df, df_name):\n",
    "    for i in range(len(df)):\n",
    "        print(\"The shape of the {} dataset is: {}\".format(df_name[i], df[i].shape))\n",
    "\n",
    "check_shape(df_all_list, df_names_list)"
   ]
  },
  {
   "cell_type": "code",
   "execution_count": 9,
   "metadata": {},
   "outputs": [],
   "source": [
    "def check_countries(dfs, df_names):\n",
    "    ## input: the list of dataframes and list of df_names\n",
    "    ## returns dictionary of all the countries found in each dataset and \n",
    "    ## prints whether these lists are the same (True) or not (False)\n",
    "    \n",
    "    all_countries = dict()\n",
    "    \n",
    "    for i in range(len(dfs)):\n",
    "        country_name = df_names[i]+'_country'\n",
    "        df_country = list(dfs[i]['country'].unique())\n",
    "\n",
    "        all_countries[country_name] = df_country\n",
    "\n",
    "    countries_identical = True\n",
    "    for i in range(len(all_countries)-1):\n",
    "        if (list(all_countries.values())[i] != list(all_countries.values())[i+1]):\n",
    "            countries_identical = False\n",
    "            break;\n",
    "    print(countries_identical)\n",
    "        \n",
    "    return all_countries"
   ]
  },
  {
   "cell_type": "code",
   "execution_count": 10,
   "metadata": {},
   "outputs": [
    {
     "name": "stdout",
     "output_type": "stream",
     "text": [
      "False\n"
     ]
    }
   ],
   "source": [
    "all_countries = check_countries(df_all_list, df_names_list)"
   ]
  },
  {
   "cell_type": "markdown",
   "metadata": {},
   "source": [
    "\n",
    "### Data Cleaning \n",
    ">***Making all datasets have the same countries (rows)***"
   ]
  },
  {
   "cell_type": "code",
   "execution_count": 11,
   "metadata": {},
   "outputs": [],
   "source": [
    "def remove_diff_countries (all_countries, df_all_list):\n",
    "    remove = []\n",
    "    for i in range(len(all_countries)):\n",
    "        for j in range(len(all_countries)-1):\n",
    "            \n",
    "            # creating list of the union of the different countries between all datasets\n",
    "            temp = list(set(list(all_countries.values())[i]).difference(set(list(all_countries.values())[j])))\n",
    "            remove = list(set().union(remove, temp))\n",
    "\n",
    "        # dropping the indices (countries) from each dataset\n",
    "        index = list(df_all_list[i].query('country == @remove').index)\n",
    "        df_all_list[i].drop(labels = index, inplace=True)"
   ]
  },
  {
   "cell_type": "code",
   "execution_count": 12,
   "metadata": {},
   "outputs": [],
   "source": [
    "remove_diff_countries(all_countries, df_all_list)"
   ]
  },
  {
   "cell_type": "code",
   "execution_count": 13,
   "metadata": {},
   "outputs": [
    {
     "name": "stdout",
     "output_type": "stream",
     "text": [
      "The shape of the Population dataset is: (186, 302)\n",
      "The shape of the Total_Fertility dataset is: (186, 302)\n",
      "The shape of the GDP dataset is: (186, 252)\n",
      "The shape of the Life_Expectency dataset is: (186, 302)\n"
     ]
    }
   ],
   "source": [
    "check_shape(df_all_list, df_names_list)"
   ]
  },
  {
   "cell_type": "code",
   "execution_count": 14,
   "metadata": {},
   "outputs": [
    {
     "name": "stdout",
     "output_type": "stream",
     "text": [
      "True\n"
     ]
    }
   ],
   "source": [
    "# checking that the datasets now have the same entries (countries)\n",
    "check = check_countries(df_all_list, df_names_list)"
   ]
  },
  {
   "cell_type": "markdown",
   "metadata": {},
   "source": [
    ">***Making all datasets have the same years (columns)***"
   ]
  },
  {
   "cell_type": "code",
   "execution_count": 15,
   "metadata": {},
   "outputs": [
    {
     "name": "stdout",
     "output_type": "stream",
     "text": [
      "The shape of the Population dataset is: (186, 252)\n",
      "The shape of the Total_Fertility dataset is: (186, 252)\n",
      "The shape of the GDP dataset is: (186, 252)\n",
      "The shape of the Life_Expectency dataset is: (186, 252)\n"
     ]
    }
   ],
   "source": [
    "for i in range(len(df_all_list)):\n",
    "    df_all_list[i] = df_all_list[i].loc[:, :'2050']\n",
    "\n",
    "check_shape(df_all_list, df_names_list)"
   ]
  },
  {
   "cell_type": "markdown",
   "metadata": {},
   "source": [
    ">***Joining all dataframes into one***"
   ]
  },
  {
   "cell_type": "code",
   "execution_count": 16,
   "metadata": {},
   "outputs": [
    {
     "data": {
      "text/html": [
       "<div>\n",
       "<style scoped>\n",
       "    .dataframe tbody tr th:only-of-type {\n",
       "        vertical-align: middle;\n",
       "    }\n",
       "\n",
       "    .dataframe tbody tr th {\n",
       "        vertical-align: top;\n",
       "    }\n",
       "\n",
       "    .dataframe thead th {\n",
       "        text-align: right;\n",
       "    }\n",
       "</style>\n",
       "<table border=\"1\" class=\"dataframe\">\n",
       "  <thead>\n",
       "    <tr style=\"text-align: right;\">\n",
       "      <th></th>\n",
       "      <th>country</th>\n",
       "      <th>Years</th>\n",
       "      <th>Population</th>\n",
       "      <th>Total_Fertility</th>\n",
       "      <th>GDP</th>\n",
       "      <th>Life_Expectency</th>\n",
       "    </tr>\n",
       "  </thead>\n",
       "  <tbody>\n",
       "    <tr>\n",
       "      <th>0</th>\n",
       "      <td>Afghanistan</td>\n",
       "      <td>1800</td>\n",
       "      <td>3.28M</td>\n",
       "      <td>7.0</td>\n",
       "      <td>683</td>\n",
       "      <td>28.2</td>\n",
       "    </tr>\n",
       "    <tr>\n",
       "      <th>1</th>\n",
       "      <td>Afghanistan</td>\n",
       "      <td>1801</td>\n",
       "      <td>3.28M</td>\n",
       "      <td>7.0</td>\n",
       "      <td>683</td>\n",
       "      <td>28.2</td>\n",
       "    </tr>\n",
       "    <tr>\n",
       "      <th>2</th>\n",
       "      <td>Afghanistan</td>\n",
       "      <td>1802</td>\n",
       "      <td>3.28M</td>\n",
       "      <td>7.0</td>\n",
       "      <td>683</td>\n",
       "      <td>28.2</td>\n",
       "    </tr>\n",
       "    <tr>\n",
       "      <th>3</th>\n",
       "      <td>Afghanistan</td>\n",
       "      <td>1803</td>\n",
       "      <td>3.28M</td>\n",
       "      <td>7.0</td>\n",
       "      <td>683</td>\n",
       "      <td>28.2</td>\n",
       "    </tr>\n",
       "    <tr>\n",
       "      <th>4</th>\n",
       "      <td>Afghanistan</td>\n",
       "      <td>1804</td>\n",
       "      <td>3.28M</td>\n",
       "      <td>7.0</td>\n",
       "      <td>683</td>\n",
       "      <td>28.2</td>\n",
       "    </tr>\n",
       "  </tbody>\n",
       "</table>\n",
       "</div>"
      ],
      "text/plain": [
       "       country Years Population  Total_Fertility  GDP  Life_Expectency\n",
       "0  Afghanistan  1800      3.28M              7.0  683             28.2\n",
       "1  Afghanistan  1801      3.28M              7.0  683             28.2\n",
       "2  Afghanistan  1802      3.28M              7.0  683             28.2\n",
       "3  Afghanistan  1803      3.28M              7.0  683             28.2\n",
       "4  Afghanistan  1804      3.28M              7.0  683             28.2"
      ]
     },
     "execution_count": 16,
     "metadata": {},
     "output_type": "execute_result"
    }
   ],
   "source": [
    "years = df_pop.columns[1:]\n",
    "melted_list = []\n",
    "for i in range(len(df_all_list)):\n",
    "    temp_melted = df_all_list[i].melt(id_vars=['country'], var_name=\"Years\", value_name = df_names_list[i])\n",
    "    temp_melted.sort_values(by=['country', 'Years'], axis=0, inplace=True)\n",
    "    melted_list.append(temp_melted)\n",
    "    if i==0:\n",
    "        df_all = temp_melted.set_index(['country', 'Years'])    \n",
    "    \n",
    "for i in range(1, len(melted_list)):\n",
    "    df_all = df_all.join(melted_list[i].set_index(['country', 'Years']))\n",
    "\n",
    "df_all.reset_index(inplace=True)\n",
    "df_all.head()"
   ]
  },
  {
   "cell_type": "code",
   "execution_count": 17,
   "metadata": {},
   "outputs": [
    {
     "name": "stdout",
     "output_type": "stream",
     "text": [
      "<class 'pandas.core.frame.DataFrame'>\n",
      "RangeIndex: 46686 entries, 0 to 46685\n",
      "Data columns (total 6 columns):\n",
      "country            46686 non-null object\n",
      "Years              46686 non-null object\n",
      "Population         46686 non-null object\n",
      "Total_Fertility    46686 non-null float64\n",
      "GDP                46686 non-null object\n",
      "Life_Expectency    46686 non-null float64\n",
      "dtypes: float64(2), object(4)\n",
      "memory usage: 2.1+ MB\n"
     ]
    }
   ],
   "source": [
    "df_all.to_csv('cleaned_gapminder.csv', index=False)\n",
    "df_all.info() #shows that no nulls to be removed"
   ]
  },
  {
   "cell_type": "markdown",
   "metadata": {},
   "source": [
    ">***Changing all datatypes to float*** (To be able to graph)"
   ]
  },
  {
   "cell_type": "code",
   "execution_count": 18,
   "metadata": {},
   "outputs": [],
   "source": [
    "# remove any k, M, B (thousand, million, billion) from Population column\n",
    "num_list = []\n",
    "for i in range(df_all.shape[0]):\n",
    "    if ('M' in df_all.Population[i]):\n",
    "        num = np.dot(float(df_all.Population[i].strip('M')),1000000.00)\n",
    "        num_list.append(num)\n",
    "    elif ('k' in df_all.Population[i]):\n",
    "        num = np.dot(float(df_all.Population[i].strip('k')), 1000.00)\n",
    "        num_list.append(num)\n",
    "    elif ('B' in df_all.Population[i]):\n",
    "        num = np.dot(float(df_all.Population[i].strip('B')), 1000000000.00)\n",
    "        num_list.append(num)\n",
    "    else:\n",
    "        num = round(float(df_all.Population[i]), 2)\n",
    "        num_list.append(num)"
   ]
  },
  {
   "cell_type": "code",
   "execution_count": 19,
   "metadata": {},
   "outputs": [
    {
     "data": {
      "text/html": [
       "<div>\n",
       "<style scoped>\n",
       "    .dataframe tbody tr th:only-of-type {\n",
       "        vertical-align: middle;\n",
       "    }\n",
       "\n",
       "    .dataframe tbody tr th {\n",
       "        vertical-align: top;\n",
       "    }\n",
       "\n",
       "    .dataframe thead th {\n",
       "        text-align: right;\n",
       "    }\n",
       "</style>\n",
       "<table border=\"1\" class=\"dataframe\">\n",
       "  <thead>\n",
       "    <tr style=\"text-align: right;\">\n",
       "      <th></th>\n",
       "      <th>country</th>\n",
       "      <th>Years</th>\n",
       "      <th>Population</th>\n",
       "      <th>Total_Fertility</th>\n",
       "      <th>GDP</th>\n",
       "      <th>Life_Expectency</th>\n",
       "    </tr>\n",
       "  </thead>\n",
       "  <tbody>\n",
       "    <tr>\n",
       "      <th>0</th>\n",
       "      <td>Afghanistan</td>\n",
       "      <td>1800</td>\n",
       "      <td>3280000.0</td>\n",
       "      <td>7.0</td>\n",
       "      <td>683</td>\n",
       "      <td>28.2</td>\n",
       "    </tr>\n",
       "    <tr>\n",
       "      <th>1</th>\n",
       "      <td>Afghanistan</td>\n",
       "      <td>1801</td>\n",
       "      <td>3280000.0</td>\n",
       "      <td>7.0</td>\n",
       "      <td>683</td>\n",
       "      <td>28.2</td>\n",
       "    </tr>\n",
       "    <tr>\n",
       "      <th>2</th>\n",
       "      <td>Afghanistan</td>\n",
       "      <td>1802</td>\n",
       "      <td>3280000.0</td>\n",
       "      <td>7.0</td>\n",
       "      <td>683</td>\n",
       "      <td>28.2</td>\n",
       "    </tr>\n",
       "    <tr>\n",
       "      <th>3</th>\n",
       "      <td>Afghanistan</td>\n",
       "      <td>1803</td>\n",
       "      <td>3280000.0</td>\n",
       "      <td>7.0</td>\n",
       "      <td>683</td>\n",
       "      <td>28.2</td>\n",
       "    </tr>\n",
       "    <tr>\n",
       "      <th>4</th>\n",
       "      <td>Afghanistan</td>\n",
       "      <td>1804</td>\n",
       "      <td>3280000.0</td>\n",
       "      <td>7.0</td>\n",
       "      <td>683</td>\n",
       "      <td>28.2</td>\n",
       "    </tr>\n",
       "  </tbody>\n",
       "</table>\n",
       "</div>"
      ],
      "text/plain": [
       "       country Years  Population  Total_Fertility  GDP  Life_Expectency\n",
       "0  Afghanistan  1800   3280000.0              7.0  683             28.2\n",
       "1  Afghanistan  1801   3280000.0              7.0  683             28.2\n",
       "2  Afghanistan  1802   3280000.0              7.0  683             28.2\n",
       "3  Afghanistan  1803   3280000.0              7.0  683             28.2\n",
       "4  Afghanistan  1804   3280000.0              7.0  683             28.2"
      ]
     },
     "execution_count": 19,
     "metadata": {},
     "output_type": "execute_result"
    }
   ],
   "source": [
    "df_all['Population'] = num_list\n",
    "df_all.head()"
   ]
  },
  {
   "cell_type": "code",
   "execution_count": 20,
   "metadata": {},
   "outputs": [
    {
     "data": {
      "text/html": [
       "<div>\n",
       "<style scoped>\n",
       "    .dataframe tbody tr th:only-of-type {\n",
       "        vertical-align: middle;\n",
       "    }\n",
       "\n",
       "    .dataframe tbody tr th {\n",
       "        vertical-align: top;\n",
       "    }\n",
       "\n",
       "    .dataframe thead th {\n",
       "        text-align: right;\n",
       "    }\n",
       "</style>\n",
       "<table border=\"1\" class=\"dataframe\">\n",
       "  <thead>\n",
       "    <tr style=\"text-align: right;\">\n",
       "      <th></th>\n",
       "      <th>country</th>\n",
       "      <th>Years</th>\n",
       "      <th>Population</th>\n",
       "      <th>Total_Fertility</th>\n",
       "      <th>GDP</th>\n",
       "      <th>Life_Expectency</th>\n",
       "    </tr>\n",
       "  </thead>\n",
       "  <tbody>\n",
       "    <tr>\n",
       "      <th>0</th>\n",
       "      <td>Afghanistan</td>\n",
       "      <td>1800</td>\n",
       "      <td>3280000.0</td>\n",
       "      <td>7.0</td>\n",
       "      <td>683.0</td>\n",
       "      <td>28.2</td>\n",
       "    </tr>\n",
       "    <tr>\n",
       "      <th>1</th>\n",
       "      <td>Afghanistan</td>\n",
       "      <td>1801</td>\n",
       "      <td>3280000.0</td>\n",
       "      <td>7.0</td>\n",
       "      <td>683.0</td>\n",
       "      <td>28.2</td>\n",
       "    </tr>\n",
       "    <tr>\n",
       "      <th>2</th>\n",
       "      <td>Afghanistan</td>\n",
       "      <td>1802</td>\n",
       "      <td>3280000.0</td>\n",
       "      <td>7.0</td>\n",
       "      <td>683.0</td>\n",
       "      <td>28.2</td>\n",
       "    </tr>\n",
       "    <tr>\n",
       "      <th>3</th>\n",
       "      <td>Afghanistan</td>\n",
       "      <td>1803</td>\n",
       "      <td>3280000.0</td>\n",
       "      <td>7.0</td>\n",
       "      <td>683.0</td>\n",
       "      <td>28.2</td>\n",
       "    </tr>\n",
       "    <tr>\n",
       "      <th>4</th>\n",
       "      <td>Afghanistan</td>\n",
       "      <td>1804</td>\n",
       "      <td>3280000.0</td>\n",
       "      <td>7.0</td>\n",
       "      <td>683.0</td>\n",
       "      <td>28.2</td>\n",
       "    </tr>\n",
       "  </tbody>\n",
       "</table>\n",
       "</div>"
      ],
      "text/plain": [
       "       country Years  Population  Total_Fertility    GDP  Life_Expectency\n",
       "0  Afghanistan  1800   3280000.0              7.0  683.0             28.2\n",
       "1  Afghanistan  1801   3280000.0              7.0  683.0             28.2\n",
       "2  Afghanistan  1802   3280000.0              7.0  683.0             28.2\n",
       "3  Afghanistan  1803   3280000.0              7.0  683.0             28.2\n",
       "4  Afghanistan  1804   3280000.0              7.0  683.0             28.2"
      ]
     },
     "execution_count": 20,
     "metadata": {},
     "output_type": "execute_result"
    }
   ],
   "source": [
    "# Remove all k's from the GDP column \n",
    "gdp_list = []\n",
    "for i in range(df_all.shape[0]):\n",
    "    if ('k' in str(df_all.GDP[i])):\n",
    "        num = np.dot(round(float(df_all.GDP[i].strip('k')), 2),1000.00)\n",
    "        gdp_list.append(num)\n",
    "    else:\n",
    "        num = round(float(df_all.GDP[i]), 2)\n",
    "        gdp_list.append(num)\n",
    "\n",
    "df_all['GDP'] = gdp_list\n",
    "df_all.head()"
   ]
  },
  {
   "cell_type": "code",
   "execution_count": 37,
   "metadata": {},
   "outputs": [
    {
     "data": {
      "image/png": "[encoded data removed]",
      "text/plain": [
       "<matplotlib.figure.Figure at 0x7f540ff66a58>"
      ]
     },
     "metadata": {
      "needs_background": "light"
     },
     "output_type": "display_data"
    }
   ],
   "source": [
    "df_all_hist = df_all.drop(columns = ['country', 'Years'])\n",
    "df_all_hist.hist(figsize=(10,8));"
   ]
  },
  {
   "cell_type": "markdown",
   "metadata": {},
   "source": [
    "**These histograms give a general overview of the data we have; we can see that the majority has a GDP/capita less than 25000 and only very few countries have a population over 0.15 billion. The highest count of life expectency is at 30 years and total fertility is greatly skewed to the left with 7 being the most present fertility rate.**"
   ]
  },
  {
   "cell_type": "code",
   "execution_count": 21,
   "metadata": {},
   "outputs": [
    {
     "data": {
      "text/plain": [
       "country             object\n",
       "Years               object\n",
       "Population         float64\n",
       "Total_Fertility    float64\n",
       "GDP                float64\n",
       "Life_Expectency    float64\n",
       "dtype: object"
      ]
     },
     "execution_count": 21,
     "metadata": {},
     "output_type": "execute_result"
    }
   ],
   "source": [
    "df_all.GDP = df_all.GDP.astype(float)\n",
    "df_all.Population = df_all.Population.astype(float)\n",
    "\n",
    "df_all.dtypes"
   ]
  },
  {
   "cell_type": "markdown",
   "metadata": {},
   "source": [
    ">***Grouping some countries into their regions***"
   ]
  },
  {
   "cell_type": "code",
   "execution_count": 22,
   "metadata": {},
   "outputs": [
    {
     "data": {
      "text/html": [
       "<div>\n",
       "<style scoped>\n",
       "    .dataframe tbody tr th:only-of-type {\n",
       "        vertical-align: middle;\n",
       "    }\n",
       "\n",
       "    .dataframe tbody tr th {\n",
       "        vertical-align: top;\n",
       "    }\n",
       "\n",
       "    .dataframe thead th {\n",
       "        text-align: right;\n",
       "    }\n",
       "</style>\n",
       "<table border=\"1\" class=\"dataframe\">\n",
       "  <thead>\n",
       "    <tr style=\"text-align: right;\">\n",
       "      <th></th>\n",
       "      <th>Population</th>\n",
       "      <th>Total_Fertility</th>\n",
       "      <th>GDP</th>\n",
       "      <th>Life_Expectency</th>\n",
       "    </tr>\n",
       "    <tr>\n",
       "      <th>Years</th>\n",
       "      <th></th>\n",
       "      <th></th>\n",
       "      <th></th>\n",
       "      <th></th>\n",
       "    </tr>\n",
       "  </thead>\n",
       "  <tbody>\n",
       "    <tr>\n",
       "      <th>1800</th>\n",
       "      <td>5.347857e+07</td>\n",
       "      <td>5.560000</td>\n",
       "      <td>968.714286</td>\n",
       "      <td>30.742857</td>\n",
       "    </tr>\n",
       "    <tr>\n",
       "      <th>1801</th>\n",
       "      <td>5.377871e+07</td>\n",
       "      <td>5.564286</td>\n",
       "      <td>968.714286</td>\n",
       "      <td>30.742857</td>\n",
       "    </tr>\n",
       "    <tr>\n",
       "      <th>1802</th>\n",
       "      <td>5.395029e+07</td>\n",
       "      <td>5.568571</td>\n",
       "      <td>968.571429</td>\n",
       "      <td>30.742857</td>\n",
       "    </tr>\n",
       "    <tr>\n",
       "      <th>1803</th>\n",
       "      <td>5.425043e+07</td>\n",
       "      <td>5.572857</td>\n",
       "      <td>970.000000</td>\n",
       "      <td>30.742857</td>\n",
       "    </tr>\n",
       "    <tr>\n",
       "      <th>1804</th>\n",
       "      <td>5.442200e+07</td>\n",
       "      <td>5.577143</td>\n",
       "      <td>971.428571</td>\n",
       "      <td>30.742857</td>\n",
       "    </tr>\n",
       "  </tbody>\n",
       "</table>\n",
       "</div>"
      ],
      "text/plain": [
       "         Population  Total_Fertility         GDP  Life_Expectency\n",
       "Years                                                            \n",
       "1800   5.347857e+07         5.560000  968.714286        30.742857\n",
       "1801   5.377871e+07         5.564286  968.714286        30.742857\n",
       "1802   5.395029e+07         5.568571  968.571429        30.742857\n",
       "1803   5.425043e+07         5.572857  970.000000        30.742857\n",
       "1804   5.442200e+07         5.577143  971.428571        30.742857"
      ]
     },
     "execution_count": 22,
     "metadata": {},
     "output_type": "execute_result"
    }
   ],
   "source": [
    "west_europe_countries = ['Germany', 'France', 'Switzerland', 'Belgium', 'Netherlands', 'Spain', 'Norway', 'Sweden', 'Luxembourg']\n",
    "middle_east_countries = ['Palestine', 'Egypt','Cyprus', 'Lebanon', 'Syria', 'Iraq', 'Iran','Jordan', 'Saudi Arabia', 'Kuwait', 'Qatar', 'Bahrain', 'United Arab Emirates', 'Oman', 'Yemen']\n",
    "south_asia_countries = ['Afghanistan','Bangladesh','Bhutan','India','Iran','Maldives','Nepal','Pakistan','Sri Lanka', 'Cambodia', 'Indonesia', ]\n",
    "east_asia_countries = ['China','Hong Kong, China','Japan','Macau','Mongolia','North Korea','South Korea','Taiwan']\n",
    "\n",
    "East_Asia = df_all.query(\"country == @east_asia_countries\").groupby('Years').mean()\n",
    "South_Asia = df_all.query(\"country == @south_asia_countries\").groupby('Years').mean()\n",
    "Middle_East = df_all.query(\"country == @middle_east_countries\").groupby('Years').mean()\n",
    "Western_Europe = df_all.query(\"country == @west_europe_countries\").groupby('Years').mean()\n",
    "\n",
    "East_Asia.head()"
   ]
  },
  {
   "cell_type": "markdown",
   "metadata": {},
   "source": [
    ">***Creating a scaled copy of each region*** - so that the metrics can be plotted on the same y-axis in Research Question 4"
   ]
  },
  {
   "cell_type": "code",
   "execution_count": 34,
   "metadata": {},
   "outputs": [
    {
     "data": {
      "text/html": [
       "<div>\n",
       "<style scoped>\n",
       "    .dataframe tbody tr th:only-of-type {\n",
       "        vertical-align: middle;\n",
       "    }\n",
       "\n",
       "    .dataframe tbody tr th {\n",
       "        vertical-align: top;\n",
       "    }\n",
       "\n",
       "    .dataframe thead th {\n",
       "        text-align: right;\n",
       "    }\n",
       "</style>\n",
       "<table border=\"1\" class=\"dataframe\">\n",
       "  <thead>\n",
       "    <tr style=\"text-align: right;\">\n",
       "      <th></th>\n",
       "      <th>Population</th>\n",
       "      <th>Total_Fertility</th>\n",
       "      <th>GDP</th>\n",
       "      <th>Life_Expectency</th>\n",
       "    </tr>\n",
       "  </thead>\n",
       "  <tbody>\n",
       "    <tr>\n",
       "      <th>0</th>\n",
       "      <td>0.000000</td>\n",
       "      <td>0.968030</td>\n",
       "      <td>0.002011</td>\n",
       "      <td>0.031940</td>\n",
       "    </tr>\n",
       "    <tr>\n",
       "      <th>1</th>\n",
       "      <td>0.002227</td>\n",
       "      <td>0.964249</td>\n",
       "      <td>0.001891</td>\n",
       "      <td>0.042658</td>\n",
       "    </tr>\n",
       "    <tr>\n",
       "      <th>2</th>\n",
       "      <td>0.005059</td>\n",
       "      <td>0.964249</td>\n",
       "      <td>0.002263</td>\n",
       "      <td>0.051018</td>\n",
       "    </tr>\n",
       "    <tr>\n",
       "      <th>3</th>\n",
       "      <td>0.007286</td>\n",
       "      <td>0.970780</td>\n",
       "      <td>0.002142</td>\n",
       "      <td>0.043730</td>\n",
       "    </tr>\n",
       "    <tr>\n",
       "      <th>4</th>\n",
       "      <td>0.009573</td>\n",
       "      <td>0.961843</td>\n",
       "      <td>0.002306</td>\n",
       "      <td>0.043730</td>\n",
       "    </tr>\n",
       "  </tbody>\n",
       "</table>\n",
       "</div>"
      ],
      "text/plain": [
       "   Population  Total_Fertility       GDP  Life_Expectency\n",
       "0    0.000000         0.968030  0.002011         0.031940\n",
       "1    0.002227         0.964249  0.001891         0.042658\n",
       "2    0.005059         0.964249  0.002263         0.051018\n",
       "3    0.007286         0.970780  0.002142         0.043730\n",
       "4    0.009573         0.961843  0.002306         0.043730"
      ]
     },
     "execution_count": 34,
     "metadata": {},
     "output_type": "execute_result"
    }
   ],
   "source": [
    "sc = MinMaxScaler()\n",
    "Middle_East_sc = pd.DataFrame(sc.fit_transform(pd.DataFrame(Middle_East)),columns=df_names_list)\n",
    "South_Asia_sc = pd.DataFrame(sc.fit_transform(pd.DataFrame(South_Asia)),columns=df_names_list)\n",
    "East_Asia_sc = pd.DataFrame(sc.fit_transform(pd.DataFrame(East_Asia)),columns=df_names_list)\n",
    "Western_Europe_sc = pd.DataFrame(sc.fit_transform(pd.DataFrame(Western_Europe)),columns=df_names_list)\n",
    "\n",
    "regions_scaled = [Middle_East_sc, South_Asia_sc, East_Asia_sc, Western_Europe_sc]\n",
    "Western_Europe_sc.head()"
   ]
  },
  {
   "cell_type": "markdown",
   "metadata": {},
   "source": [
    "<a id='eda'></a>\n",
    "## Exploratory Data Analysis\n",
    "\n",
    "\n",
    "### Research Question 1 (How is income related to population?)"
   ]
  },
  {
   "cell_type": "code",
   "execution_count": 24,
   "metadata": {
    "scrolled": true
   },
   "outputs": [
    {
     "data": {
      "image/png": "[encoded data removed]",
      "text/plain": [
       "<matplotlib.figure.Figure at 0x7f5418323a90>"
      ]
     },
     "metadata": {
      "needs_background": "light"
     },
     "output_type": "display_data"
    }
   ],
   "source": [
    "pop_vs_gdp = df_all.groupby('Population').mean()\n",
    "#pop_vs_gdp.reset_index(inplace=True)\n",
    "plt.scatter(pop_vs_gdp.index, pop_vs_gdp.GDP);\n",
    "plt.title('Income vs Population')\n",
    "plt.ylabel('Income')\n",
    "plt.xlabel('Population in billions');\n",
    "plt.grid();"
   ]
  },
  {
   "cell_type": "markdown",
   "metadata": {},
   "source": [
    "<a id='conclusion 1'></a>\n",
    "### Conclusion 1 \n",
    ">**The first graph doesn't show a continuous trend between Population and Income, but it is shown that the highest GDP/Capita were found in the areas with lower population.**"
   ]
  },
  {
   "cell_type": "markdown",
   "metadata": {},
   "source": [
    "### Research Question 2  (How is life expectency related to income?)"
   ]
  },
  {
   "cell_type": "code",
   "execution_count": 25,
   "metadata": {},
   "outputs": [
    {
     "data": {
      "image/png": "[encoded data removed]",
      "text/plain": [
       "<matplotlib.figure.Figure at 0x7f5418457be0>"
      ]
     },
     "metadata": {
      "needs_background": "light"
     },
     "output_type": "display_data"
    }
   ],
   "source": [
    "gdp_vs_exp = df_all.groupby('GDP').mean()\n",
    "plt.scatter(gdp_vs_exp.index, gdp_vs_exp.Life_Expectency);\n",
    "plt.title('Life Expectency vs Income')\n",
    "plt.ylabel('Life Expectency (in years)')\n",
    "plt.xlabel('Income (in dollars)')\n",
    "plt.grid();"
   ]
  },
  {
   "cell_type": "markdown",
   "metadata": {},
   "source": [
    "<a id='conclusion 2'></a>\n",
    "### Conclusion 2\n",
    ">**The graph shows that until about 20,000 dollars income, life expectancy increases at a very significant rate (very steep slope). It levels off after that, but it can still be observed that no life expectancy is less than about 80 years starting from about 150000 dollars income and upwards.**"
   ]
  },
  {
   "cell_type": "markdown",
   "metadata": {},
   "source": [
    "### Research Question 3 (How do the chosen regions compare on each indicator?)"
   ]
  },
  {
   "cell_type": "markdown",
   "metadata": {},
   "source": [
    "**Let's first see the mean value of each metric for every reagion.**"
   ]
  },
  {
   "cell_type": "code",
   "execution_count": 51,
   "metadata": {},
   "outputs": [
    {
     "data": {
      "image/png": "[encoded data removed]",
      "text/plain": [
       "<matplotlib.figure.Figure at 0x7f54109fa2e8>"
      ]
     },
     "metadata": {
      "needs_background": "light"
     },
     "output_type": "display_data"
    }
   ],
   "source": [
    "y_middle_east = [Middle_East_sc.Population.mean(), Middle_East_sc.Total_Fertility.mean(), Middle_East_sc.GDP.mean(), Middle_East_sc.Life_Expectency.mean()]\n",
    "y_western_europe = [Western_Europe_sc.Population.mean(), Western_Europe_sc.Total_Fertility.mean(), Western_Europe_sc.GDP.mean(), Western_Europe_sc.Life_Expectency.mean()]\n",
    "y_south_asia = [South_Asia_sc.Population.mean(), South_Asia_sc.Total_Fertility.mean(), South_Asia_sc.GDP.mean(), South_Asia_sc.Life_Expectency.mean()]\n",
    "y_east_asia = [East_Asia_sc.Population.mean(), East_Asia_sc.Total_Fertility.mean(), East_Asia_sc.GDP.mean(), East_Asia_sc.Life_Expectency.mean()]\n",
    "#plt.xticks([1, 2, 3, 4], df_names_list)\n",
    "ind = np.arange(4)\n",
    "width=0.2\n",
    "\n",
    "plt.bar(ind, height = y_middle_east, width=0.2, label='Middle East', color='r')\n",
    "plt.bar(ind+width, height = y_western_europe, width=0.2, label='Western Europe', color='g')\n",
    "plt.bar(ind+width*2, height = y_south_asia, width=0.2, label='South Asia', color='b')\n",
    "plt.bar(ind+width*3, height = y_east_asia, width=0.2, label='East Asia', color='y')\n",
    "plt.xticks(ind+width, df_names_list)\n",
    "plt.legend();\n",
    "plt.show();"
   ]
  },
  {
   "cell_type": "markdown",
   "metadata": {},
   "source": [
    "**Now let's check the information in more detail and observe how each metric changes over the years**"
   ]
  },
  {
   "cell_type": "code",
   "execution_count": 56,
   "metadata": {},
   "outputs": [],
   "source": [
    "regions_names = ['East Asia', 'South Asia', 'Middle East', 'Western Europe']\n",
    "colors = ['r', 'b', 'g', 'y']\n",
    "regions_df = [East_Asia, South_Asia, Middle_East, Western_Europe]\n",
    "\n",
    "#                   ---- already defined above ----\n",
    "\n",
    "#df_names_list = ['Population', 'Total_Fertility', 'GDP', 'Life_Expectency']\n",
    "\n",
    "def regions_on_indicator (df, indicator, names, colors):\n",
    "    for i in range(len(colors)):\n",
    "        plt.plot(df[i].index, df[i][indicator], colors[i], label= names[i])\n",
    "        x_ticks = [0,50, 100, 150, 200, 250]\n",
    "        x_labels = [1800,1850, 1900, 1950, 2000, 2050]\n",
    "        plt.xticks(x_ticks, x_labels);\n",
    "        plt.xlabel('Years')\n",
    "        plt.ylabel(indicator.replace('_', ' '))\n",
    "        plt.title('{} over the years'.format(indicator.replace('_', ' ')))\n",
    "        plt.legend();"
   ]
  },
  {
   "cell_type": "code",
   "execution_count": 57,
   "metadata": {},
   "outputs": [
    {
     "data": {
      "image/png": "[encoded data removed]",
      "text/plain": [
       "<matplotlib.figure.Figure at 0x7f540d527908>"
      ]
     },
     "metadata": {
      "needs_background": "light"
     },
     "output_type": "display_data"
    },
    {
     "data": {
      "image/png": "[encoded data removed]",
      "text/plain": [
       "<matplotlib.figure.Figure at 0x7f540d2f0ef0>"
      ]
     },
     "metadata": {
      "needs_background": "light"
     },
     "output_type": "display_data"
    },
    {
     "data": {
      "image/png": "[encoded data removed]",
      "text/plain": [
       "<matplotlib.figure.Figure at 0x7f540d2bfc88>"
      ]
     },
     "metadata": {
      "needs_background": "light"
     },
     "output_type": "display_data"
    },
    {
     "data": {
      "image/png": "[encoded data removed]",
      "text/plain": [
       "<matplotlib.figure.Figure at 0x7f540d24bc18>"
      ]
     },
     "metadata": {
      "needs_background": "light"
     },
     "output_type": "display_data"
    }
   ],
   "source": [
    "for i in range(len(df_names_list)):\n",
    "    regions_on_indicator (regions_df, df_names_list[i], regions_names, colors)\n",
    "    plt.show();"
   ]
  },
  {
   "cell_type": "markdown",
   "metadata": {},
   "source": [
    "<a id='conclusion 3'></a>\n",
    "### Conclusion 3\n",
    ">**Population is the most metric where there is a significant difference between the regions. As shown, East and South Asia's population escalated rappidly at around 1850 while the other two regions continues in their slow, gradual increase. The regions follow the same trend for the other three metrics. It can be noted that Western Europe has the lowest total fertility rate (which started to decline much earlier than the other regions) and the highest increase in GDP.**"
   ]
  },
  {
   "cell_type": "markdown",
   "metadata": {},
   "source": [
    "### Research Question 4 (How do the metrics compare for each region?)"
   ]
  },
  {
   "cell_type": "code",
   "execution_count": 58,
   "metadata": {},
   "outputs": [],
   "source": [
    "def indicators_on_region (df, indicator, names, colors):\n",
    "    for i in range(len(colors)):\n",
    "        plt.plot(df.index, df[indicator[i]], colors[i], label=indicator[i])\n",
    "        x_ticks = [0,50, 100, 150, 200, 250]\n",
    "        x_labels = [1800,1850, 1900, 1950, 2000, 2050]\n",
    "        plt.xticks(x_ticks, x_labels);\n",
    "        plt.title (names)\n",
    "        plt.xlabel('Years')\n",
    "        plt.ylabel('Scaled Axis')\n",
    "        plt.legend()\n",
    "    "
   ]
  },
  {
   "cell_type": "code",
   "execution_count": 59,
   "metadata": {},
   "outputs": [
    {
     "data": {
      "image/png": "[encoded data removed]",
      "text/plain": [
       "<matplotlib.figure.Figure at 0x7f540d1cb0f0>"
      ]
     },
     "metadata": {
      "needs_background": "light"
     },
     "output_type": "display_data"
    },
    {
     "data": {
      "image/png": "[encoded data removed]",
      "text/plain": [
       "<matplotlib.figure.Figure at 0x7f540d147e48>"
      ]
     },
     "metadata": {
      "needs_background": "light"
     },
     "output_type": "display_data"
    },
    {
     "data": {
      "image/png": "[encoded data removed]",
      "text/plain": [
       "<matplotlib.figure.Figure at 0x7f540d1260b8>"
      ]
     },
     "metadata": {
      "needs_background": "light"
     },
     "output_type": "display_data"
    },
    {
     "data": {
      "image/png": "[encoded data removed]",
      "text/plain": [
       "<matplotlib.figure.Figure at 0x7f540d03bac8>"
      ]
     },
     "metadata": {
      "needs_background": "light"
     },
     "output_type": "display_data"
    }
   ],
   "source": [
    "for i in range(len(colors)):\n",
    "    indicators_on_region(regions_scaled[i], df_names_list, regions_names[i], colors)\n",
    "    plt.show()"
   ]
  },
  {
   "cell_type": "markdown",
   "metadata": {},
   "source": [
    "<a id='conclusion 4'></a>\n",
    "### Conclusion 4\n",
    ">**The graphs show an overall trend between the indicators across each region; as life expectency, population and GDP increase, total fertility decreases. The rate at which this happens differs from region to region, and so does the presence of abrubt pikes throughout. A noticeable difference is that total fertility in Western Europe started its steep decline at about the year 1870 unlike the other regions (at about 1960)**"
   ]
  },
  {
   "cell_type": "markdown",
   "metadata": {},
   "source": [
    "<a id='conclusions'></a>\n",
    "## Limitations\n",
    "> **Taking life expectancy and total GDP as the 'success' metrics, it appears that Western Europe is the best. It is worth noting, however, that outliers were not taken into consideration. The high performance observed might be due to a few exceptional stand-alone points while the majority of the region is not being represented accurately.**\n",
    "**Moreover, data for the years 2023 onward are only an estimation of what is yet to happen.**\n",
    "\n",
    "## Submitting your Project "
   ]
  },
  {
   "cell_type": "code",
   "execution_count": 30,
   "metadata": {},
   "outputs": [
    {
     "data": {
      "text/plain": [
       "0"
      ]
     },
     "execution_count": 30,
     "metadata": {},
     "output_type": "execute_result"
    }
   ],
   "source": [
    "from subprocess import call\n",
    "call(['python', '-m', 'nbconvert', 'Investigate_a_Dataset.ipynb'])"
   ]
  }
 ],
 "metadata": {
  "kernelspec": {
   "display_name": "Python 3",
   "language": "python",
   "name": "python3"
  },
  "language_info": {
   "codemirror_mode": {
    "name": "ipython",
    "version": 3
   },
   "file_extension": ".py",
   "mimetype": "text/x-python",
   "name": "python",
   "nbconvert_exporter": "python",
   "pygments_lexer": "ipython3",
   "version": "3.6.3"
  }
 },
 "nbformat": 4,
 "nbformat_minor": 2
}
